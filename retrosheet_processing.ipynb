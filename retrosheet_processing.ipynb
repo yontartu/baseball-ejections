{
 "cells": [
  {
   "cell_type": "code",
   "execution_count": 1,
   "metadata": {
    "collapsed": false
   },
   "outputs": [
    {
     "name": "stderr",
     "output_type": "stream",
     "text": [
      "//anaconda/lib/python2.7/site-packages/pandas/computation/__init__.py:19: UserWarning: The installed version of numexpr 2.4.4 is not supported in pandas and will be not be used\n",
      "\n",
      "  UserWarning)\n"
     ]
    }
   ],
   "source": [
    "import pandas as pd\n",
    "import numpy as np\n",
    "import csv\n",
    "import glob\n",
    "import os\n",
    "import psycopg2 as pg\n",
    "\n",
    "%matplotlib inline"
   ]
  },
  {
   "cell_type": "code",
   "execution_count": 2,
   "metadata": {
    "collapsed": true
   },
   "outputs": [],
   "source": [
    "### Group functions together, at top of notebook\n",
    "\n",
    "# Define a function to label each row as a specific record type -- to use in .apply() \n",
    "\n",
    "def label_record(row):\n",
    "    if row['a'][:3] == 'id,':\n",
    "        return 'id'\n",
    "    if row['a'][:5] == 'play,':\n",
    "        return 'play'\n",
    "    if row['a'][:8] == 'com,\"ej,':\n",
    "        return 'ejection comment'\n",
    "    if row['a'][:3] == 'com':\n",
    "        return 'other comment'\n",
    "    return 'other'\n",
    "\n",
    "\n",
    "# Define a function to generate a column of game_id's\n",
    "\n",
    "def gen_id(row):\n",
    "    if row['record_type'] == 'id':\n",
    "        return row['a'][3:]\n",
    "\n",
    "\n",
    "# Define a function to generate columns with individual data points from the play records\n",
    "\n",
    "def gen_play(row, num): # num is the index of the list item of interest (i.e. of the items separated by commas)\n",
    "    if row['record_type'] == 'play':\n",
    "        return row['a'].split(',')[num]\n",
    "\n",
    "\n",
    "# Define a function to generate columns with individual data points from ejection comments \n",
    "\n",
    "def gen_comment(row, num): # num is the index of the list item of interest (i.e. of the items separated by commas)\n",
    "    if row['record_type'] == 'ejection comment':\n",
    "        return row['a'].split(',')[num].strip('\"')\n",
    "    \n",
    "# Define a function to create the ejection dataset for all years\n",
    "\n",
    "def gen_ejection_data(filename):\n",
    "    data = pd.read_table(filename, names='a')\n",
    "    data = data[data.a.str[:3].isin(['id,','pla','com'])]\n",
    "    data['record_type'] = data.apply(lambda row: label_record(row), axis=1)\n",
    "    data['game_id'] = data.apply(lambda row: gen_id(row), axis=1).fillna(method='ffill')\n",
    "       \n",
    "    data['inning'] = data.apply(lambda row: gen_play(row, 1), axis=1)\n",
    "    data['batting_team'] = data.apply(lambda row: gen_play(row, 2), axis=1)\n",
    "    data['batter'] = data.apply(lambda row: gen_play(row, 3), axis=1)\n",
    "    data['pitch_sequence'] = data.apply(lambda row: gen_play(row, 5), axis=1)\n",
    "    data['event_text'] = data.apply(lambda row: gen_play(row, 6), axis=1)\n",
    "\n",
    "    data['ejection_flag'] = data.apply(lambda row: gen_comment(row, 1), axis=1)\n",
    "    data['ejectee'] = data.apply(lambda row: gen_comment(row, 2), axis=1)\n",
    "    data['job_code'] = data.apply(lambda row: gen_comment(row, 3), axis=1)\n",
    "    data['ump_id'] = data.apply(lambda row: gen_comment(row, 4), axis=1)\n",
    "    data['reason'] = data.apply(lambda row: gen_comment(row, 5), axis=1)\n",
    "    data = data.drop(data[data.event_text == 'NP'].index, axis=0)\n",
    "    \n",
    "    data = data.fillna(method='ffill')\n",
    "    data = data[data.record_type == 'ejection comment']\n",
    "    data = data.drop('a', axis=1)\n",
    "    data = data.drop('record_type', axis=1)\n",
    "    return data"
   ]
  },
  {
   "cell_type": "code",
   "execution_count": 3,
   "metadata": {
    "collapsed": false
   },
   "outputs": [
    {
     "data": {
      "text/html": [
       "<div>\n",
       "<table border=\"1\" class=\"dataframe\">\n",
       "  <thead>\n",
       "    <tr style=\"text-align: right;\">\n",
       "      <th></th>\n",
       "      <th>a</th>\n",
       "    </tr>\n",
       "  </thead>\n",
       "  <tbody>\n",
       "    <tr>\n",
       "      <th>0</th>\n",
       "      <td>id,BOS200004110</td>\n",
       "    </tr>\n",
       "    <tr>\n",
       "      <th>1</th>\n",
       "      <td>version,2</td>\n",
       "    </tr>\n",
       "    <tr>\n",
       "      <th>2</th>\n",
       "      <td>info,visteam,MIN</td>\n",
       "    </tr>\n",
       "    <tr>\n",
       "      <th>3</th>\n",
       "      <td>info,hometeam,BOS</td>\n",
       "    </tr>\n",
       "    <tr>\n",
       "      <th>4</th>\n",
       "      <td>info,site,BOS07</td>\n",
       "    </tr>\n",
       "  </tbody>\n",
       "</table>\n",
       "</div>"
      ],
      "text/plain": [
       "                   a\n",
       "0    id,BOS200004110\n",
       "1          version,2\n",
       "2   info,visteam,MIN\n",
       "3  info,hometeam,BOS\n",
       "4    info,site,BOS07"
      ]
     },
     "execution_count": 3,
     "metadata": {},
     "output_type": "execute_result"
    }
   ],
   "source": [
    "test_data = pd.read_table('raw_data/2000BOS.EVA', names='a')\n",
    "test_data.head()"
   ]
  },
  {
   "cell_type": "code",
   "execution_count": 4,
   "metadata": {
    "collapsed": false
   },
   "outputs": [
    {
     "data": {
      "text/html": [
       "<div>\n",
       "<table border=\"1\" class=\"dataframe\">\n",
       "  <thead>\n",
       "    <tr style=\"text-align: right;\">\n",
       "      <th></th>\n",
       "      <th>game_id</th>\n",
       "      <th>inning</th>\n",
       "      <th>batting_team</th>\n",
       "      <th>batter</th>\n",
       "      <th>pitch_sequence</th>\n",
       "      <th>event_text</th>\n",
       "      <th>ejection_flag</th>\n",
       "      <th>ejectee</th>\n",
       "      <th>job_code</th>\n",
       "      <th>ump_id</th>\n",
       "      <th>reason</th>\n",
       "    </tr>\n",
       "  </thead>\n",
       "  <tbody>\n",
       "    <tr>\n",
       "      <th>3511</th>\n",
       "      <td>BOS200005310</td>\n",
       "      <td>2</td>\n",
       "      <td>0</td>\n",
       "      <td>damoj001</td>\n",
       "      <td>BSFBX</td>\n",
       "      <td>D9/9LD.3-H;1-H;B-3(THH)</td>\n",
       "      <td>ej</td>\n",
       "      <td>willj107</td>\n",
       "      <td>M</td>\n",
       "      <td>crawj901</td>\n",
       "      <td>Fan interference non-call</td>\n",
       "    </tr>\n",
       "    <tr>\n",
       "      <th>4648</th>\n",
       "      <td>BOS200006200</td>\n",
       "      <td>6</td>\n",
       "      <td>0</td>\n",
       "      <td>knobc001</td>\n",
       "      <td>BLX</td>\n",
       "      <td>2/BG/BINT.1-1</td>\n",
       "      <td>ej</td>\n",
       "      <td>knobc001</td>\n",
       "      <td>P</td>\n",
       "      <td>younl901</td>\n",
       "      <td>Interference call</td>\n",
       "    </tr>\n",
       "    <tr>\n",
       "      <th>5406</th>\n",
       "      <td>BOS200006280</td>\n",
       "      <td>10</td>\n",
       "      <td>1</td>\n",
       "      <td>varij001</td>\n",
       "      <td>CSX</td>\n",
       "      <td>7/F7</td>\n",
       "      <td>ej</td>\n",
       "      <td>willj107</td>\n",
       "      <td>M</td>\n",
       "      <td>reynj901</td>\n",
       "      <td>Balls and strikes</td>\n",
       "    </tr>\n",
       "    <tr>\n",
       "      <th>6303</th>\n",
       "      <td>BOS200007140</td>\n",
       "      <td>7</td>\n",
       "      <td>1</td>\n",
       "      <td>everc001</td>\n",
       "      <td>BFH</td>\n",
       "      <td>HP.1-2</td>\n",
       "      <td>ej</td>\n",
       "      <td>cookd001</td>\n",
       "      <td>P</td>\n",
       "      <td>fostm901</td>\n",
       "      <td>Arguing HBP</td>\n",
       "    </tr>\n",
       "    <tr>\n",
       "      <th>6428</th>\n",
       "      <td>BOS200007150</td>\n",
       "      <td>2</td>\n",
       "      <td>0</td>\n",
       "      <td>moram002</td>\n",
       "      <td>BC</td>\n",
       "      <td>CS2(24)</td>\n",
       "      <td>ej</td>\n",
       "      <td>everc001</td>\n",
       "      <td>P</td>\n",
       "      <td>kulpr901</td>\n",
       "      <td>Bumping umpire during argument</td>\n",
       "    </tr>\n",
       "    <tr>\n",
       "      <th>7341</th>\n",
       "      <td>BOS200007230</td>\n",
       "      <td>7</td>\n",
       "      <td>1</td>\n",
       "      <td>lewid001</td>\n",
       "      <td>CBSBFX</td>\n",
       "      <td>53/G</td>\n",
       "      <td>ej</td>\n",
       "      <td>joshv101</td>\n",
       "      <td>C</td>\n",
       "      <td>bellw901</td>\n",
       "      <td>Balls and strikes</td>\n",
       "    </tr>\n",
       "    <tr>\n",
       "      <th>7342</th>\n",
       "      <td>BOS200007230</td>\n",
       "      <td>7</td>\n",
       "      <td>1</td>\n",
       "      <td>lewid001</td>\n",
       "      <td>CBSBFX</td>\n",
       "      <td>53/G</td>\n",
       "      <td>ej</td>\n",
       "      <td>manuj101</td>\n",
       "      <td>M</td>\n",
       "      <td>onorb901</td>\n",
       "      <td>Balls and strikes</td>\n",
       "    </tr>\n",
       "    <tr>\n",
       "      <th>11431</th>\n",
       "      <td>BOS200009201</td>\n",
       "      <td>7</td>\n",
       "      <td>1</td>\n",
       "      <td>daubb001</td>\n",
       "      <td>FSBX</td>\n",
       "      <td>43/G</td>\n",
       "      <td>ej</td>\n",
       "      <td>willj107</td>\n",
       "      <td>M</td>\n",
       "      <td>riekr901</td>\n",
       "      <td>Foul tip call</td>\n",
       "    </tr>\n",
       "    <tr>\n",
       "      <th>11781</th>\n",
       "      <td>BOS200009211</td>\n",
       "      <td>7</td>\n",
       "      <td>0</td>\n",
       "      <td>loftk001</td>\n",
       "      <td>BX</td>\n",
       "      <td>53/G</td>\n",
       "      <td>ej</td>\n",
       "      <td>manuc101</td>\n",
       "      <td>M</td>\n",
       "      <td>barkl901</td>\n",
       "      <td>Call at 1B</td>\n",
       "    </tr>\n",
       "  </tbody>\n",
       "</table>\n",
       "</div>"
      ],
      "text/plain": [
       "            game_id inning batting_team    batter pitch_sequence  \\\n",
       "3511   BOS200005310      2            0  damoj001          BSFBX   \n",
       "4648   BOS200006200      6            0  knobc001            BLX   \n",
       "5406   BOS200006280     10            1  varij001            CSX   \n",
       "6303   BOS200007140      7            1  everc001            BFH   \n",
       "6428   BOS200007150      2            0  moram002             BC   \n",
       "7341   BOS200007230      7            1  lewid001         CBSBFX   \n",
       "7342   BOS200007230      7            1  lewid001         CBSBFX   \n",
       "11431  BOS200009201      7            1  daubb001           FSBX   \n",
       "11781  BOS200009211      7            0  loftk001             BX   \n",
       "\n",
       "                    event_text ejection_flag   ejectee job_code    ump_id  \\\n",
       "3511   D9/9LD.3-H;1-H;B-3(THH)            ej  willj107        M  crawj901   \n",
       "4648             2/BG/BINT.1-1            ej  knobc001        P  younl901   \n",
       "5406                      7/F7            ej  willj107        M  reynj901   \n",
       "6303                    HP.1-2            ej  cookd001        P  fostm901   \n",
       "6428                   CS2(24)            ej  everc001        P  kulpr901   \n",
       "7341                      53/G            ej  joshv101        C  bellw901   \n",
       "7342                      53/G            ej  manuj101        M  onorb901   \n",
       "11431                     43/G            ej  willj107        M  riekr901   \n",
       "11781                     53/G            ej  manuc101        M  barkl901   \n",
       "\n",
       "                               reason  \n",
       "3511        Fan interference non-call  \n",
       "4648                Interference call  \n",
       "5406                Balls and strikes  \n",
       "6303                      Arguing HBP  \n",
       "6428   Bumping umpire during argument  \n",
       "7341                Balls and strikes  \n",
       "7342                Balls and strikes  \n",
       "11431                   Foul tip call  \n",
       "11781                      Call at 1B  "
      ]
     },
     "execution_count": 4,
     "metadata": {},
     "output_type": "execute_result"
    }
   ],
   "source": [
    "### START HERE - 11/24/16\n",
    "t = test_data.copy()\n",
    "#t[t.a.str.startswith('sub,florb')]\n",
    "#t = t.loc[5400:5410] # *** COMMENT OUT LATER ***\n",
    "t = t[t.a.str[:3].isin(['id,','pla','com'])]\n",
    "# insert line here that removes 'NP' records, too\n",
    "\n",
    "t['record_type'] = t.apply(lambda row: label_record(row), axis=1)\n",
    "t['game_id'] = t.apply(lambda row: gen_id(row), axis=1).fillna(method='ffill')\n",
    "t['inning'] = t.apply(lambda row: gen_play(row, 1), axis=1)\n",
    "t['batting_team'] = t.apply(lambda row: gen_play(row, 2), axis=1)\n",
    "t['batter'] = t.apply(lambda row: gen_play(row, 3), axis=1)\n",
    "t['pitch_sequence'] = t.apply(lambda row: gen_play(row, 5), axis=1)\n",
    "t['event_text'] = t.apply(lambda row: gen_play(row, 6), axis=1)\n",
    "\n",
    "t['ejection_flag'] = t.apply(lambda row: gen_comment(row, 1), axis=1)\n",
    "t['ejectee'] = t.apply(lambda row: gen_comment(row, 2), axis=1)\n",
    "t['job_code'] = t.apply(lambda row: gen_comment(row, 3), axis=1)\n",
    "t['ump_id'] = t.apply(lambda row: gen_comment(row, 4), axis=1)\n",
    "t['reason'] = t.apply(lambda row: gen_comment(row, 5), axis=1)\n",
    "t = t.drop(t[t.event_text == 'NP'].index, axis=0) # OR: move up to be next line 3...\n",
    "\n",
    "t = t.fillna(method='ffill')\n",
    "t = t[t.record_type == 'ejection comment']\n",
    "t = t.drop('a', axis=1)\n",
    "t = t.drop('record_type', axis=1)\n",
    "        \n",
    "t"
   ]
  },
  {
   "cell_type": "code",
   "execution_count": null,
   "metadata": {
    "collapsed": true
   },
   "outputs": [],
   "source": [
    "BOS200006280 CSX\n",
    "BOS200007230 CBSBFX\n",
    "BOS200007230 CBSBFX"
   ]
  },
  {
   "cell_type": "code",
   "execution_count": 6,
   "metadata": {
    "collapsed": false
   },
   "outputs": [
    {
     "data": {
      "text/html": [
       "<div>\n",
       "<table border=\"1\" class=\"dataframe\">\n",
       "  <thead>\n",
       "    <tr style=\"text-align: right;\">\n",
       "      <th></th>\n",
       "      <th>game_id</th>\n",
       "      <th>inning</th>\n",
       "      <th>batting_team</th>\n",
       "      <th>batter</th>\n",
       "      <th>pitch_sequence</th>\n",
       "      <th>event_text</th>\n",
       "      <th>ejection_flag</th>\n",
       "      <th>ejectee</th>\n",
       "      <th>job_code</th>\n",
       "      <th>ump_id</th>\n",
       "      <th>reason</th>\n",
       "    </tr>\n",
       "  </thead>\n",
       "  <tbody>\n",
       "    <tr>\n",
       "      <th>3511</th>\n",
       "      <td>BOS200005310</td>\n",
       "      <td>2</td>\n",
       "      <td>0</td>\n",
       "      <td>damoj001</td>\n",
       "      <td>BSFBX</td>\n",
       "      <td>D9/9LD.3-H;1-H;B-3(THH)</td>\n",
       "      <td>ej</td>\n",
       "      <td>willj107</td>\n",
       "      <td>M</td>\n",
       "      <td>crawj901</td>\n",
       "      <td>Fan interference non-call</td>\n",
       "    </tr>\n",
       "    <tr>\n",
       "      <th>4648</th>\n",
       "      <td>BOS200006200</td>\n",
       "      <td>6</td>\n",
       "      <td>0</td>\n",
       "      <td>knobc001</td>\n",
       "      <td>BLX</td>\n",
       "      <td>2/BG/BINT.1-1</td>\n",
       "      <td>ej</td>\n",
       "      <td>knobc001</td>\n",
       "      <td>P</td>\n",
       "      <td>younl901</td>\n",
       "      <td>Interference call</td>\n",
       "    </tr>\n",
       "    <tr>\n",
       "      <th>5406</th>\n",
       "      <td>BOS200006280</td>\n",
       "      <td>10</td>\n",
       "      <td>1</td>\n",
       "      <td>varij001</td>\n",
       "      <td>CSX</td>\n",
       "      <td>7/F7</td>\n",
       "      <td>ej</td>\n",
       "      <td>willj107</td>\n",
       "      <td>M</td>\n",
       "      <td>reynj901</td>\n",
       "      <td>Balls and strikes</td>\n",
       "    </tr>\n",
       "    <tr>\n",
       "      <th>6303</th>\n",
       "      <td>BOS200007140</td>\n",
       "      <td>7</td>\n",
       "      <td>1</td>\n",
       "      <td>everc001</td>\n",
       "      <td>BFH</td>\n",
       "      <td>HP.1-2</td>\n",
       "      <td>ej</td>\n",
       "      <td>cookd001</td>\n",
       "      <td>P</td>\n",
       "      <td>fostm901</td>\n",
       "      <td>Arguing HBP</td>\n",
       "    </tr>\n",
       "    <tr>\n",
       "      <th>6428</th>\n",
       "      <td>BOS200007150</td>\n",
       "      <td>2</td>\n",
       "      <td>0</td>\n",
       "      <td>moram002</td>\n",
       "      <td>BC</td>\n",
       "      <td>CS2(24)</td>\n",
       "      <td>ej</td>\n",
       "      <td>everc001</td>\n",
       "      <td>P</td>\n",
       "      <td>kulpr901</td>\n",
       "      <td>Bumping umpire during argument</td>\n",
       "    </tr>\n",
       "    <tr>\n",
       "      <th>7341</th>\n",
       "      <td>BOS200007230</td>\n",
       "      <td>7</td>\n",
       "      <td>1</td>\n",
       "      <td>lewid001</td>\n",
       "      <td>CBSBFX</td>\n",
       "      <td>53/G</td>\n",
       "      <td>ej</td>\n",
       "      <td>joshv101</td>\n",
       "      <td>C</td>\n",
       "      <td>bellw901</td>\n",
       "      <td>Balls and strikes</td>\n",
       "    </tr>\n",
       "    <tr>\n",
       "      <th>7342</th>\n",
       "      <td>BOS200007230</td>\n",
       "      <td>7</td>\n",
       "      <td>1</td>\n",
       "      <td>lewid001</td>\n",
       "      <td>CBSBFX</td>\n",
       "      <td>53/G</td>\n",
       "      <td>ej</td>\n",
       "      <td>manuj101</td>\n",
       "      <td>M</td>\n",
       "      <td>onorb901</td>\n",
       "      <td>Balls and strikes</td>\n",
       "    </tr>\n",
       "    <tr>\n",
       "      <th>11431</th>\n",
       "      <td>BOS200009201</td>\n",
       "      <td>7</td>\n",
       "      <td>1</td>\n",
       "      <td>daubb001</td>\n",
       "      <td>FSBX</td>\n",
       "      <td>43/G</td>\n",
       "      <td>ej</td>\n",
       "      <td>willj107</td>\n",
       "      <td>M</td>\n",
       "      <td>riekr901</td>\n",
       "      <td>Foul tip call</td>\n",
       "    </tr>\n",
       "    <tr>\n",
       "      <th>11781</th>\n",
       "      <td>BOS200009211</td>\n",
       "      <td>7</td>\n",
       "      <td>0</td>\n",
       "      <td>loftk001</td>\n",
       "      <td>BX</td>\n",
       "      <td>53/G</td>\n",
       "      <td>ej</td>\n",
       "      <td>manuc101</td>\n",
       "      <td>M</td>\n",
       "      <td>barkl901</td>\n",
       "      <td>Call at 1B</td>\n",
       "    </tr>\n",
       "  </tbody>\n",
       "</table>\n",
       "</div>"
      ],
      "text/plain": [
       "            game_id inning batting_team    batter pitch_sequence  \\\n",
       "3511   BOS200005310      2            0  damoj001          BSFBX   \n",
       "4648   BOS200006200      6            0  knobc001            BLX   \n",
       "5406   BOS200006280     10            1  varij001            CSX   \n",
       "6303   BOS200007140      7            1  everc001            BFH   \n",
       "6428   BOS200007150      2            0  moram002             BC   \n",
       "7341   BOS200007230      7            1  lewid001         CBSBFX   \n",
       "7342   BOS200007230      7            1  lewid001         CBSBFX   \n",
       "11431  BOS200009201      7            1  daubb001           FSBX   \n",
       "11781  BOS200009211      7            0  loftk001             BX   \n",
       "\n",
       "                    event_text ejection_flag   ejectee job_code    ump_id  \\\n",
       "3511   D9/9LD.3-H;1-H;B-3(THH)            ej  willj107        M  crawj901   \n",
       "4648             2/BG/BINT.1-1            ej  knobc001        P  younl901   \n",
       "5406                      7/F7            ej  willj107        M  reynj901   \n",
       "6303                    HP.1-2            ej  cookd001        P  fostm901   \n",
       "6428                   CS2(24)            ej  everc001        P  kulpr901   \n",
       "7341                      53/G            ej  joshv101        C  bellw901   \n",
       "7342                      53/G            ej  manuj101        M  onorb901   \n",
       "11431                     43/G            ej  willj107        M  riekr901   \n",
       "11781                     53/G            ej  manuc101        M  barkl901   \n",
       "\n",
       "                               reason  \n",
       "3511        Fan interference non-call  \n",
       "4648                Interference call  \n",
       "5406                Balls and strikes  \n",
       "6303                      Arguing HBP  \n",
       "6428   Bumping umpire during argument  \n",
       "7341                Balls and strikes  \n",
       "7342                Balls and strikes  \n",
       "11431                   Foul tip call  \n",
       "11781                      Call at 1B  "
      ]
     },
     "execution_count": 6,
     "metadata": {},
     "output_type": "execute_result"
    }
   ],
   "source": [
    "t = test_data.copy()\n",
    "t = t.loc[5400:5410]\n",
    "d = gen_ejection_data('raw_data/2000BOS.EVA')\n",
    "d#.head()"
   ]
  },
  {
   "cell_type": "code",
   "execution_count": null,
   "metadata": {
    "collapsed": true
   },
   "outputs": [],
   "source": []
  },
  {
   "cell_type": "code",
   "execution_count": null,
   "metadata": {
    "collapsed": true
   },
   "outputs": [],
   "source": []
  },
  {
   "cell_type": "code",
   "execution_count": null,
   "metadata": {
    "collapsed": true
   },
   "outputs": [],
   "source": []
  },
  {
   "cell_type": "code",
   "execution_count": 4,
   "metadata": {
    "collapsed": false,
    "scrolled": true
   },
   "outputs": [
    {
     "name": "stdout",
     "output_type": "stream",
     "text": [
      "\n",
      "Source Table: 2000ANA.EVA\n",
      "\n",
      "Source Table: 2000ARI.EVN\n",
      "\n",
      "Source Table: 2000ATL.EVN\n",
      "\n",
      "Source Table: 2000BAL.EVA\n"
     ]
    },
    {
     "ename": "KeyboardInterrupt",
     "evalue": "",
     "output_type": "error",
     "traceback": [
      "\u001b[0;31m---------------------------------------------------------------------------\u001b[0m",
      "\u001b[0;31mKeyboardInterrupt\u001b[0m                         Traceback (most recent call last)",
      "\u001b[0;32m<ipython-input-4-a41567aad372>\u001b[0m in \u001b[0;36m<module>\u001b[0;34m()\u001b[0m\n\u001b[1;32m     14\u001b[0m         \u001b[0mos\u001b[0m\u001b[0;34m.\u001b[0m\u001b[0mmakedirs\u001b[0m\u001b[0;34m(\u001b[0m\u001b[0mpath\u001b[0m\u001b[0;34m)\u001b[0m\u001b[0;34m\u001b[0m\u001b[0m\n\u001b[1;32m     15\u001b[0m \u001b[0;34m\u001b[0m\u001b[0m\n\u001b[0;32m---> 16\u001b[0;31m     \u001b[0mraw_data\u001b[0m \u001b[0;34m=\u001b[0m \u001b[0mgen_ejection_data\u001b[0m\u001b[0;34m(\u001b[0m\u001b[0mfilename\u001b[0m\u001b[0;34m)\u001b[0m\u001b[0;34m\u001b[0m\u001b[0m\n\u001b[0m\u001b[1;32m     17\u001b[0m     \u001b[0mexport_df\u001b[0m \u001b[0;34m=\u001b[0m \u001b[0mexport_df\u001b[0m\u001b[0;34m.\u001b[0m\u001b[0mappend\u001b[0m\u001b[0;34m(\u001b[0m\u001b[0mraw_data\u001b[0m\u001b[0;34m)\u001b[0m\u001b[0;34m\u001b[0m\u001b[0m\n\u001b[1;32m     18\u001b[0m \u001b[0;34m\u001b[0m\u001b[0m\n",
      "\u001b[0;32m<ipython-input-3-7cc01c4fb008>\u001b[0m in \u001b[0;36mgen_ejection_data\u001b[0;34m(filename)\u001b[0m\n\u001b[1;32m     40\u001b[0m     \u001b[0mdata\u001b[0m \u001b[0;34m=\u001b[0m \u001b[0mpd\u001b[0m\u001b[0;34m.\u001b[0m\u001b[0mread_table\u001b[0m\u001b[0;34m(\u001b[0m\u001b[0mfilename\u001b[0m\u001b[0;34m,\u001b[0m \u001b[0mnames\u001b[0m\u001b[0;34m=\u001b[0m\u001b[0;34m'a'\u001b[0m\u001b[0;34m)\u001b[0m\u001b[0;34m\u001b[0m\u001b[0m\n\u001b[1;32m     41\u001b[0m     \u001b[0mdata\u001b[0m \u001b[0;34m=\u001b[0m \u001b[0mdata\u001b[0m\u001b[0;34m[\u001b[0m\u001b[0mdata\u001b[0m\u001b[0;34m.\u001b[0m\u001b[0ma\u001b[0m\u001b[0;34m.\u001b[0m\u001b[0mstr\u001b[0m\u001b[0;34m[\u001b[0m\u001b[0;34m:\u001b[0m\u001b[0;36m3\u001b[0m\u001b[0;34m]\u001b[0m\u001b[0;34m.\u001b[0m\u001b[0misin\u001b[0m\u001b[0;34m(\u001b[0m\u001b[0;34m[\u001b[0m\u001b[0;34m'id,'\u001b[0m\u001b[0;34m,\u001b[0m\u001b[0;34m'pla'\u001b[0m\u001b[0;34m,\u001b[0m\u001b[0;34m'com'\u001b[0m\u001b[0;34m]\u001b[0m\u001b[0;34m)\u001b[0m\u001b[0;34m]\u001b[0m\u001b[0;34m\u001b[0m\u001b[0m\n\u001b[0;32m---> 42\u001b[0;31m     \u001b[0mdata\u001b[0m\u001b[0;34m[\u001b[0m\u001b[0;34m'record_type'\u001b[0m\u001b[0;34m]\u001b[0m \u001b[0;34m=\u001b[0m \u001b[0mdata\u001b[0m\u001b[0;34m.\u001b[0m\u001b[0mapply\u001b[0m\u001b[0;34m(\u001b[0m\u001b[0;32mlambda\u001b[0m \u001b[0mrow\u001b[0m\u001b[0;34m:\u001b[0m \u001b[0mlabel_record\u001b[0m\u001b[0;34m(\u001b[0m\u001b[0mrow\u001b[0m\u001b[0;34m)\u001b[0m\u001b[0;34m,\u001b[0m \u001b[0maxis\u001b[0m\u001b[0;34m=\u001b[0m\u001b[0;36m1\u001b[0m\u001b[0;34m)\u001b[0m\u001b[0;34m\u001b[0m\u001b[0m\n\u001b[0m\u001b[1;32m     43\u001b[0m     \u001b[0mdata\u001b[0m\u001b[0;34m[\u001b[0m\u001b[0;34m'game_id'\u001b[0m\u001b[0;34m]\u001b[0m \u001b[0;34m=\u001b[0m \u001b[0mdata\u001b[0m\u001b[0;34m.\u001b[0m\u001b[0mapply\u001b[0m\u001b[0;34m(\u001b[0m\u001b[0;32mlambda\u001b[0m \u001b[0mrow\u001b[0m\u001b[0;34m:\u001b[0m \u001b[0mgen_id\u001b[0m\u001b[0;34m(\u001b[0m\u001b[0mrow\u001b[0m\u001b[0;34m)\u001b[0m\u001b[0;34m,\u001b[0m \u001b[0maxis\u001b[0m\u001b[0;34m=\u001b[0m\u001b[0;36m1\u001b[0m\u001b[0;34m)\u001b[0m\u001b[0;34m.\u001b[0m\u001b[0mfillna\u001b[0m\u001b[0;34m(\u001b[0m\u001b[0mmethod\u001b[0m\u001b[0;34m=\u001b[0m\u001b[0;34m'ffill'\u001b[0m\u001b[0;34m)\u001b[0m\u001b[0;34m\u001b[0m\u001b[0m\n\u001b[1;32m     44\u001b[0m \u001b[0;34m\u001b[0m\u001b[0m\n",
      "\u001b[0;32m//anaconda/lib/python2.7/site-packages/pandas/core/frame.pyc\u001b[0m in \u001b[0;36mapply\u001b[0;34m(self, func, axis, broadcast, raw, reduce, args, **kwds)\u001b[0m\n\u001b[1;32m   4059\u001b[0m                     \u001b[0;32mif\u001b[0m \u001b[0mreduce\u001b[0m \u001b[0;32mis\u001b[0m \u001b[0mNone\u001b[0m\u001b[0;34m:\u001b[0m\u001b[0;34m\u001b[0m\u001b[0m\n\u001b[1;32m   4060\u001b[0m                         \u001b[0mreduce\u001b[0m \u001b[0;34m=\u001b[0m \u001b[0mTrue\u001b[0m\u001b[0;34m\u001b[0m\u001b[0m\n\u001b[0;32m-> 4061\u001b[0;31m                     \u001b[0;32mreturn\u001b[0m \u001b[0mself\u001b[0m\u001b[0;34m.\u001b[0m\u001b[0m_apply_standard\u001b[0m\u001b[0;34m(\u001b[0m\u001b[0mf\u001b[0m\u001b[0;34m,\u001b[0m \u001b[0maxis\u001b[0m\u001b[0;34m,\u001b[0m \u001b[0mreduce\u001b[0m\u001b[0;34m=\u001b[0m\u001b[0mreduce\u001b[0m\u001b[0;34m)\u001b[0m\u001b[0;34m\u001b[0m\u001b[0m\n\u001b[0m\u001b[1;32m   4062\u001b[0m             \u001b[0;32melse\u001b[0m\u001b[0;34m:\u001b[0m\u001b[0;34m\u001b[0m\u001b[0m\n\u001b[1;32m   4063\u001b[0m                 \u001b[0;32mreturn\u001b[0m \u001b[0mself\u001b[0m\u001b[0;34m.\u001b[0m\u001b[0m_apply_broadcast\u001b[0m\u001b[0;34m(\u001b[0m\u001b[0mf\u001b[0m\u001b[0;34m,\u001b[0m \u001b[0maxis\u001b[0m\u001b[0;34m)\u001b[0m\u001b[0;34m\u001b[0m\u001b[0m\n",
      "\u001b[0;32m//anaconda/lib/python2.7/site-packages/pandas/core/frame.pyc\u001b[0m in \u001b[0;36m_apply_standard\u001b[0;34m(self, func, axis, ignore_failures, reduce)\u001b[0m\n\u001b[1;32m   4115\u001b[0m                     \u001b[0mlabels\u001b[0m \u001b[0;34m=\u001b[0m \u001b[0mself\u001b[0m\u001b[0;34m.\u001b[0m\u001b[0m_get_agg_axis\u001b[0m\u001b[0;34m(\u001b[0m\u001b[0maxis\u001b[0m\u001b[0;34m)\u001b[0m\u001b[0;34m\u001b[0m\u001b[0m\n\u001b[1;32m   4116\u001b[0m                     result = lib.reduce(values, func, axis=axis, dummy=dummy,\n\u001b[0;32m-> 4117\u001b[0;31m                                         labels=labels)\n\u001b[0m\u001b[1;32m   4118\u001b[0m                     \u001b[0;32mreturn\u001b[0m \u001b[0mSeries\u001b[0m\u001b[0;34m(\u001b[0m\u001b[0mresult\u001b[0m\u001b[0;34m,\u001b[0m \u001b[0mindex\u001b[0m\u001b[0;34m=\u001b[0m\u001b[0mlabels\u001b[0m\u001b[0;34m)\u001b[0m\u001b[0;34m\u001b[0m\u001b[0m\n\u001b[1;32m   4119\u001b[0m                 \u001b[0;32mexcept\u001b[0m \u001b[0mException\u001b[0m\u001b[0;34m:\u001b[0m\u001b[0;34m\u001b[0m\u001b[0m\n",
      "\u001b[0;32mpandas/src/reduce.pyx\u001b[0m in \u001b[0;36mpandas.lib.reduce (pandas/lib.c:43539)\u001b[0;34m()\u001b[0m\n",
      "\u001b[0;32mpandas/src/reduce.pyx\u001b[0m in \u001b[0;36mpandas.lib.Reducer.get_result (pandas/lib.c:33736)\u001b[0;34m()\u001b[0m\n",
      "\u001b[0;32m<ipython-input-3-7cc01c4fb008>\u001b[0m in \u001b[0;36m<lambda>\u001b[0;34m(row)\u001b[0m\n\u001b[1;32m     40\u001b[0m     \u001b[0mdata\u001b[0m \u001b[0;34m=\u001b[0m \u001b[0mpd\u001b[0m\u001b[0;34m.\u001b[0m\u001b[0mread_table\u001b[0m\u001b[0;34m(\u001b[0m\u001b[0mfilename\u001b[0m\u001b[0;34m,\u001b[0m \u001b[0mnames\u001b[0m\u001b[0;34m=\u001b[0m\u001b[0;34m'a'\u001b[0m\u001b[0;34m)\u001b[0m\u001b[0;34m\u001b[0m\u001b[0m\n\u001b[1;32m     41\u001b[0m     \u001b[0mdata\u001b[0m \u001b[0;34m=\u001b[0m \u001b[0mdata\u001b[0m\u001b[0;34m[\u001b[0m\u001b[0mdata\u001b[0m\u001b[0;34m.\u001b[0m\u001b[0ma\u001b[0m\u001b[0;34m.\u001b[0m\u001b[0mstr\u001b[0m\u001b[0;34m[\u001b[0m\u001b[0;34m:\u001b[0m\u001b[0;36m3\u001b[0m\u001b[0;34m]\u001b[0m\u001b[0;34m.\u001b[0m\u001b[0misin\u001b[0m\u001b[0;34m(\u001b[0m\u001b[0;34m[\u001b[0m\u001b[0;34m'id,'\u001b[0m\u001b[0;34m,\u001b[0m\u001b[0;34m'pla'\u001b[0m\u001b[0;34m,\u001b[0m\u001b[0;34m'com'\u001b[0m\u001b[0;34m]\u001b[0m\u001b[0;34m)\u001b[0m\u001b[0;34m]\u001b[0m\u001b[0;34m\u001b[0m\u001b[0m\n\u001b[0;32m---> 42\u001b[0;31m     \u001b[0mdata\u001b[0m\u001b[0;34m[\u001b[0m\u001b[0;34m'record_type'\u001b[0m\u001b[0;34m]\u001b[0m \u001b[0;34m=\u001b[0m \u001b[0mdata\u001b[0m\u001b[0;34m.\u001b[0m\u001b[0mapply\u001b[0m\u001b[0;34m(\u001b[0m\u001b[0;32mlambda\u001b[0m \u001b[0mrow\u001b[0m\u001b[0;34m:\u001b[0m \u001b[0mlabel_record\u001b[0m\u001b[0;34m(\u001b[0m\u001b[0mrow\u001b[0m\u001b[0;34m)\u001b[0m\u001b[0;34m,\u001b[0m \u001b[0maxis\u001b[0m\u001b[0;34m=\u001b[0m\u001b[0;36m1\u001b[0m\u001b[0;34m)\u001b[0m\u001b[0;34m\u001b[0m\u001b[0m\n\u001b[0m\u001b[1;32m     43\u001b[0m     \u001b[0mdata\u001b[0m\u001b[0;34m[\u001b[0m\u001b[0;34m'game_id'\u001b[0m\u001b[0;34m]\u001b[0m \u001b[0;34m=\u001b[0m \u001b[0mdata\u001b[0m\u001b[0;34m.\u001b[0m\u001b[0mapply\u001b[0m\u001b[0;34m(\u001b[0m\u001b[0;32mlambda\u001b[0m \u001b[0mrow\u001b[0m\u001b[0;34m:\u001b[0m \u001b[0mgen_id\u001b[0m\u001b[0;34m(\u001b[0m\u001b[0mrow\u001b[0m\u001b[0;34m)\u001b[0m\u001b[0;34m,\u001b[0m \u001b[0maxis\u001b[0m\u001b[0;34m=\u001b[0m\u001b[0;36m1\u001b[0m\u001b[0;34m)\u001b[0m\u001b[0;34m.\u001b[0m\u001b[0mfillna\u001b[0m\u001b[0;34m(\u001b[0m\u001b[0mmethod\u001b[0m\u001b[0;34m=\u001b[0m\u001b[0;34m'ffill'\u001b[0m\u001b[0;34m)\u001b[0m\u001b[0;34m\u001b[0m\u001b[0m\n\u001b[1;32m     44\u001b[0m \u001b[0;34m\u001b[0m\u001b[0m\n",
      "\u001b[0;32m<ipython-input-3-7cc01c4fb008>\u001b[0m in \u001b[0;36mlabel_record\u001b[0;34m(row)\u001b[0m\n\u001b[1;32m      6\u001b[0m     \u001b[0;32mif\u001b[0m \u001b[0mrow\u001b[0m\u001b[0;34m[\u001b[0m\u001b[0;34m'a'\u001b[0m\u001b[0;34m]\u001b[0m\u001b[0;34m[\u001b[0m\u001b[0;34m:\u001b[0m\u001b[0;36m3\u001b[0m\u001b[0;34m]\u001b[0m \u001b[0;34m==\u001b[0m \u001b[0;34m'id,'\u001b[0m\u001b[0;34m:\u001b[0m\u001b[0;34m\u001b[0m\u001b[0m\n\u001b[1;32m      7\u001b[0m         \u001b[0;32mreturn\u001b[0m \u001b[0;34m'id'\u001b[0m\u001b[0;34m\u001b[0m\u001b[0m\n\u001b[0;32m----> 8\u001b[0;31m     \u001b[0;32mif\u001b[0m \u001b[0mrow\u001b[0m\u001b[0;34m[\u001b[0m\u001b[0;34m'a'\u001b[0m\u001b[0;34m]\u001b[0m\u001b[0;34m[\u001b[0m\u001b[0;34m:\u001b[0m\u001b[0;36m5\u001b[0m\u001b[0;34m]\u001b[0m \u001b[0;34m==\u001b[0m \u001b[0;34m'play,'\u001b[0m\u001b[0;34m:\u001b[0m\u001b[0;34m\u001b[0m\u001b[0m\n\u001b[0m\u001b[1;32m      9\u001b[0m         \u001b[0;32mreturn\u001b[0m \u001b[0;34m'play'\u001b[0m\u001b[0;34m\u001b[0m\u001b[0m\n\u001b[1;32m     10\u001b[0m     \u001b[0;32mif\u001b[0m \u001b[0mrow\u001b[0m\u001b[0;34m[\u001b[0m\u001b[0;34m'a'\u001b[0m\u001b[0;34m]\u001b[0m\u001b[0;34m[\u001b[0m\u001b[0;34m:\u001b[0m\u001b[0;36m8\u001b[0m\u001b[0;34m]\u001b[0m \u001b[0;34m==\u001b[0m \u001b[0;34m'com,\"ej,'\u001b[0m\u001b[0;34m:\u001b[0m\u001b[0;34m\u001b[0m\u001b[0m\n",
      "\u001b[0;32m//anaconda/lib/python2.7/site-packages/pandas/core/series.pyc\u001b[0m in \u001b[0;36m__getitem__\u001b[0;34m(self, key)\u001b[0m\n\u001b[1;32m    581\u001b[0m         \u001b[0mkey\u001b[0m \u001b[0;34m=\u001b[0m \u001b[0mcom\u001b[0m\u001b[0;34m.\u001b[0m\u001b[0m_apply_if_callable\u001b[0m\u001b[0;34m(\u001b[0m\u001b[0mkey\u001b[0m\u001b[0;34m,\u001b[0m \u001b[0mself\u001b[0m\u001b[0;34m)\u001b[0m\u001b[0;34m\u001b[0m\u001b[0m\n\u001b[1;32m    582\u001b[0m         \u001b[0;32mtry\u001b[0m\u001b[0;34m:\u001b[0m\u001b[0;34m\u001b[0m\u001b[0m\n\u001b[0;32m--> 583\u001b[0;31m             \u001b[0mresult\u001b[0m \u001b[0;34m=\u001b[0m \u001b[0mself\u001b[0m\u001b[0;34m.\u001b[0m\u001b[0mindex\u001b[0m\u001b[0;34m.\u001b[0m\u001b[0mget_value\u001b[0m\u001b[0;34m(\u001b[0m\u001b[0mself\u001b[0m\u001b[0;34m,\u001b[0m \u001b[0mkey\u001b[0m\u001b[0;34m)\u001b[0m\u001b[0;34m\u001b[0m\u001b[0m\n\u001b[0m\u001b[1;32m    584\u001b[0m \u001b[0;34m\u001b[0m\u001b[0m\n\u001b[1;32m    585\u001b[0m             \u001b[0;32mif\u001b[0m \u001b[0;32mnot\u001b[0m \u001b[0mlib\u001b[0m\u001b[0;34m.\u001b[0m\u001b[0misscalar\u001b[0m\u001b[0;34m(\u001b[0m\u001b[0mresult\u001b[0m\u001b[0;34m)\u001b[0m\u001b[0;34m:\u001b[0m\u001b[0;34m\u001b[0m\u001b[0m\n",
      "\u001b[0;32m//anaconda/lib/python2.7/site-packages/pandas/indexes/base.pyc\u001b[0m in \u001b[0;36mget_value\u001b[0;34m(self, series, key)\u001b[0m\n\u001b[1;32m   1972\u001b[0m                 \u001b[0;32mpass\u001b[0m\u001b[0;34m\u001b[0m\u001b[0m\n\u001b[1;32m   1973\u001b[0m \u001b[0;34m\u001b[0m\u001b[0m\n\u001b[0;32m-> 1974\u001b[0;31m         \u001b[0ms\u001b[0m \u001b[0;34m=\u001b[0m \u001b[0m_values_from_object\u001b[0m\u001b[0;34m(\u001b[0m\u001b[0mseries\u001b[0m\u001b[0;34m)\u001b[0m\u001b[0;34m\u001b[0m\u001b[0m\n\u001b[0m\u001b[1;32m   1975\u001b[0m         \u001b[0mk\u001b[0m \u001b[0;34m=\u001b[0m \u001b[0m_values_from_object\u001b[0m\u001b[0;34m(\u001b[0m\u001b[0mkey\u001b[0m\u001b[0;34m)\u001b[0m\u001b[0;34m\u001b[0m\u001b[0m\n\u001b[1;32m   1976\u001b[0m \u001b[0;34m\u001b[0m\u001b[0m\n",
      "\u001b[0;32mpandas/lib.pyx\u001b[0m in \u001b[0;36mpandas.lib.values_from_object (pandas/lib.c:4435)\u001b[0;34m()\u001b[0m\n",
      "\u001b[0;32m//anaconda/lib/python2.7/site-packages/pandas/core/series.pyc\u001b[0m in \u001b[0;36mget_values\u001b[0;34m(self)\u001b[0m\n\u001b[1;32m    371\u001b[0m     \u001b[0;32mdef\u001b[0m \u001b[0mget_values\u001b[0m\u001b[0;34m(\u001b[0m\u001b[0mself\u001b[0m\u001b[0;34m)\u001b[0m\u001b[0;34m:\u001b[0m\u001b[0;34m\u001b[0m\u001b[0m\n\u001b[1;32m    372\u001b[0m         \u001b[0;34m\"\"\" same as values (but handles sparseness conversions); is a view \"\"\"\u001b[0m\u001b[0;34m\u001b[0m\u001b[0m\n\u001b[0;32m--> 373\u001b[0;31m         \u001b[0;32mreturn\u001b[0m \u001b[0mself\u001b[0m\u001b[0;34m.\u001b[0m\u001b[0m_data\u001b[0m\u001b[0;34m.\u001b[0m\u001b[0mget_values\u001b[0m\u001b[0;34m(\u001b[0m\u001b[0;34m)\u001b[0m\u001b[0;34m\u001b[0m\u001b[0m\n\u001b[0m\u001b[1;32m    374\u001b[0m \u001b[0;34m\u001b[0m\u001b[0m\n\u001b[1;32m    375\u001b[0m     \u001b[0;34m@\u001b[0m\u001b[0mproperty\u001b[0m\u001b[0;34m\u001b[0m\u001b[0m\n",
      "\u001b[0;32m//anaconda/lib/python2.7/site-packages/pandas/core/internals.pyc\u001b[0m in \u001b[0;36mget_values\u001b[0;34m(self)\u001b[0m\n\u001b[1;32m   3914\u001b[0m     \u001b[0;32mdef\u001b[0m \u001b[0mget_values\u001b[0m\u001b[0;34m(\u001b[0m\u001b[0mself\u001b[0m\u001b[0;34m)\u001b[0m\u001b[0;34m:\u001b[0m\u001b[0;34m\u001b[0m\u001b[0m\n\u001b[1;32m   3915\u001b[0m         \u001b[0;34m\"\"\" return a dense type view \"\"\"\u001b[0m\u001b[0;34m\u001b[0m\u001b[0m\n\u001b[0;32m-> 3916\u001b[0;31m         \u001b[0;32mreturn\u001b[0m \u001b[0mnp\u001b[0m\u001b[0;34m.\u001b[0m\u001b[0marray\u001b[0m\u001b[0;34m(\u001b[0m\u001b[0mself\u001b[0m\u001b[0;34m.\u001b[0m\u001b[0m_block\u001b[0m\u001b[0;34m.\u001b[0m\u001b[0mto_dense\u001b[0m\u001b[0;34m(\u001b[0m\u001b[0;34m)\u001b[0m\u001b[0;34m,\u001b[0m \u001b[0mcopy\u001b[0m\u001b[0;34m=\u001b[0m\u001b[0mFalse\u001b[0m\u001b[0;34m)\u001b[0m\u001b[0;34m\u001b[0m\u001b[0m\n\u001b[0m\u001b[1;32m   3917\u001b[0m \u001b[0;34m\u001b[0m\u001b[0m\n\u001b[1;32m   3918\u001b[0m     \u001b[0;34m@\u001b[0m\u001b[0mproperty\u001b[0m\u001b[0;34m\u001b[0m\u001b[0m\n",
      "\u001b[0;32m//anaconda/lib/python2.7/site-packages/pandas/core/internals.pyc\u001b[0m in \u001b[0;36m_block\u001b[0;34m(self)\u001b[0m\n\u001b[1;32m   3822\u001b[0m         \u001b[0;32mpass\u001b[0m\u001b[0;34m\u001b[0m\u001b[0m\n\u001b[1;32m   3823\u001b[0m \u001b[0;34m\u001b[0m\u001b[0m\n\u001b[0;32m-> 3824\u001b[0;31m     \u001b[0;34m@\u001b[0m\u001b[0mproperty\u001b[0m\u001b[0;34m\u001b[0m\u001b[0m\n\u001b[0m\u001b[1;32m   3825\u001b[0m     \u001b[0;32mdef\u001b[0m \u001b[0m_block\u001b[0m\u001b[0;34m(\u001b[0m\u001b[0mself\u001b[0m\u001b[0;34m)\u001b[0m\u001b[0;34m:\u001b[0m\u001b[0;34m\u001b[0m\u001b[0m\n\u001b[1;32m   3826\u001b[0m         \u001b[0;32mreturn\u001b[0m \u001b[0mself\u001b[0m\u001b[0;34m.\u001b[0m\u001b[0mblocks\u001b[0m\u001b[0;34m[\u001b[0m\u001b[0;36m0\u001b[0m\u001b[0;34m]\u001b[0m\u001b[0;34m\u001b[0m\u001b[0m\n",
      "\u001b[0;31mKeyboardInterrupt\u001b[0m: "
     ]
    }
   ],
   "source": [
    "# Create one ejection comment dataset, with rows from each year appended\n",
    "# NOTE: RUNTIME IS APPX. 45 MINUTES\n",
    "\n",
    "export_df = pd.DataFrame()\n",
    "\n",
    "for filename in glob.iglob('raw_data/*.EV*'):\n",
    "    year = filename[:4]\n",
    "    team = filename[4:7]\n",
    "    print(\"\\nSource Table: \" + filename)\n",
    "        \n",
    "    #path = 'raw_data/' \n",
    "    #if not os.path.exists(path):\n",
    "    #    os.makedirs(path)\n",
    "        \n",
    "    raw_event_data = gen_ejection_data(filename)\n",
    "    export_df = export_df.append(raw_event_data)\n",
    "\n",
    "export_to_csv = export_df.to_csv(path_or_buf=path+'ejection_data_2000-2015.csv')"
   ]
  },
  {
   "cell_type": "code",
   "execution_count": null,
   "metadata": {
    "collapsed": false
   },
   "outputs": [],
   "source": [
    "# Code used to clean up data issues with raw play-by-play files\n",
    "\n",
    "data = pd.read_table('2013TEX.EVA', names='a')\n",
    "data = data[data.a.str[:3].isin(['id,','pla','com'])]\n",
    "data.loc[4640]"
   ]
  },
  {
   "cell_type": "code",
   "execution_count": null,
   "metadata": {
    "collapsed": false,
    "scrolled": true
   },
   "outputs": [],
   "source": [
    "# Useful text code to test correct ejection coding\n",
    "# test1[test1.game_id == 'SFN201506160'].tail(30) # To find Pagan's/Bochy's ejections at the end; looks like it worked!"
   ]
  },
  {
   "cell_type": "code",
   "execution_count": null,
   "metadata": {
    "collapsed": true
   },
   "outputs": [],
   "source": []
  },
  {
   "cell_type": "code",
   "execution_count": 6,
   "metadata": {
    "collapsed": false
   },
   "outputs": [
    {
     "data": {
      "text/html": [
       "<div>\n",
       "<table border=\"1\" class=\"dataframe\">\n",
       "  <thead>\n",
       "    <tr style=\"text-align: right;\">\n",
       "      <th></th>\n",
       "      <th>game_id</th>\n",
       "      <th>inning</th>\n",
       "      <th>batting_team</th>\n",
       "      <th>batter</th>\n",
       "      <th>pitch_sequence</th>\n",
       "      <th>event_text</th>\n",
       "      <th>ejection_flag</th>\n",
       "      <th>ejectee</th>\n",
       "      <th>job_code</th>\n",
       "      <th>ump_id</th>\n",
       "      <th>reason</th>\n",
       "    </tr>\n",
       "  </thead>\n",
       "  <tbody>\n",
       "    <tr>\n",
       "      <th>0</th>\n",
       "      <td>ANA200004240</td>\n",
       "      <td>9</td>\n",
       "      <td>1</td>\n",
       "      <td>kenna001</td>\n",
       "      <td>FBFX</td>\n",
       "      <td>3(B)3(1)/LDP</td>\n",
       "      <td>ej</td>\n",
       "      <td>madlb001</td>\n",
       "      <td>C</td>\n",
       "      <td>welkb901</td>\n",
       "      <td>Balls and strikes</td>\n",
       "    </tr>\n",
       "    <tr>\n",
       "      <th>1</th>\n",
       "      <td>ANA200004240</td>\n",
       "      <td>2</td>\n",
       "      <td>0</td>\n",
       "      <td>polol001</td>\n",
       "      <td>X</td>\n",
       "      <td>46(1)/FO</td>\n",
       "      <td>ej</td>\n",
       "      <td>mansd801</td>\n",
       "      <td>C</td>\n",
       "      <td>culbf901</td>\n",
       "      <td>Call at 2B (Bumped umpire)</td>\n",
       "    </tr>\n",
       "    <tr>\n",
       "      <th>2</th>\n",
       "      <td>ANA200004240</td>\n",
       "      <td>5</td>\n",
       "      <td>1</td>\n",
       "      <td>glaut001</td>\n",
       "      <td>CCX</td>\n",
       "      <td>63/G</td>\n",
       "      <td>ej</td>\n",
       "      <td>garnp001</td>\n",
       "      <td>M</td>\n",
       "      <td>welkb901</td>\n",
       "      <td>Balls and strikes</td>\n",
       "    </tr>\n",
       "    <tr>\n",
       "      <th>3</th>\n",
       "      <td>ANA200005100</td>\n",
       "      <td>3</td>\n",
       "      <td>1</td>\n",
       "      <td>salmt001</td>\n",
       "      <td>BBX</td>\n",
       "      <td>63/G</td>\n",
       "      <td>ej</td>\n",
       "      <td>hatcm001</td>\n",
       "      <td>C</td>\n",
       "      <td>clara901</td>\n",
       "      <td>Fan interference call</td>\n",
       "    </tr>\n",
       "    <tr>\n",
       "      <th>4</th>\n",
       "      <td>ANA200007040</td>\n",
       "      <td>3</td>\n",
       "      <td>0</td>\n",
       "      <td>hendr001</td>\n",
       "      <td>CCFC</td>\n",
       "      <td>K/C</td>\n",
       "      <td>ej</td>\n",
       "      <td>hendr001</td>\n",
       "      <td>P</td>\n",
       "      <td>welkb901</td>\n",
       "      <td>Called third strike</td>\n",
       "    </tr>\n",
       "  </tbody>\n",
       "</table>\n",
       "</div>"
      ],
      "text/plain": [
       "        game_id  inning  batting_team    batter pitch_sequence    event_text  \\\n",
       "0  ANA200004240       9             1  kenna001           FBFX  3(B)3(1)/LDP   \n",
       "1  ANA200004240       2             0  polol001              X      46(1)/FO   \n",
       "2  ANA200004240       5             1  glaut001            CCX          63/G   \n",
       "3  ANA200005100       3             1  salmt001            BBX          63/G   \n",
       "4  ANA200007040       3             0  hendr001           CCFC           K/C   \n",
       "\n",
       "  ejection_flag   ejectee job_code    ump_id                      reason  \n",
       "0            ej  madlb001        C  welkb901           Balls and strikes  \n",
       "1            ej  mansd801        C  culbf901  Call at 2B (Bumped umpire)  \n",
       "2            ej  garnp001        M  welkb901           Balls and strikes  \n",
       "3            ej  hatcm001        C  clara901       Fan interference call  \n",
       "4            ej  hendr001        P  welkb901         Called third strike  "
      ]
     },
     "execution_count": 6,
     "metadata": {},
     "output_type": "execute_result"
    }
   ],
   "source": [
    "### Exploratory analysis of the ejections data, 2010-2015\n",
    "\n",
    "ejection_df = pd.read_csv('team_csv_data/ejection_data_2000-2015.csv')\n",
    "ejection_df = ejection_df.drop(ejection_df.columns[0], axis=1) # drop the old index column \n",
    "ejection_df.to_csv('team_csv_data/ejection_data_2000-2015_v2.csv', index=False) \n",
    "ejection_df.head()"
   ]
  },
  {
   "cell_type": "code",
   "execution_count": 7,
   "metadata": {
    "collapsed": false,
    "scrolled": true
   },
   "outputs": [
    {
     "data": {
      "text/plain": [
       "3394"
      ]
     },
     "execution_count": 7,
     "metadata": {},
     "output_type": "execute_result"
    }
   ],
   "source": [
    "e = ejection_df\n",
    "len(e) # From 2000 through 2015, there were almost 3400 ejections"
   ]
  },
  {
   "cell_type": "code",
   "execution_count": 8,
   "metadata": {
    "collapsed": false,
    "scrolled": true
   },
   "outputs": [
    {
     "data": {
      "text/plain": [
       "<matplotlib.axes._subplots.AxesSubplot at 0x10c322c90>"
      ]
     },
     "execution_count": 8,
     "metadata": {},
     "output_type": "execute_result"
    },
    {
     "data": {
      "image/png": "[encoded data removed]",
      "text/plain": [
       "<matplotlib.figure.Figure at 0x10bfb7f10>"
      ]
     },
     "metadata": {},
     "output_type": "display_data"
    }
   ],
   "source": [
    "# Plot of total ejections by team\n",
    "e.groupby(e.game_id.str[:3]).size().sort_values().plot(kind='bar')"
   ]
  },
  {
   "cell_type": "code",
   "execution_count": 9,
   "metadata": {
    "collapsed": false,
    "scrolled": true
   },
   "outputs": [
    {
     "data": {
      "text/plain": [
       "<matplotlib.axes._subplots.AxesSubplot at 0x10c542150>"
      ]
     },
     "execution_count": 9,
     "metadata": {},
     "output_type": "execute_result"
    },
    {
     "data": {
      "image/png": "[encoded data removed]",
      "text/plain": [
       "<matplotlib.figure.Figure at 0x10c773a10>"
      ]
     },
     "metadata": {},
     "output_type": "display_data"
    }
   ],
   "source": [
    "# Plot of number of total ejections per year\n",
    "e.groupby(e.game_id.str[3:7]).size().plot(kind='bar')"
   ]
  },
  {
   "cell_type": "code",
   "execution_count": 10,
   "metadata": {
    "collapsed": false,
    "scrolled": true
   },
   "outputs": [
    {
     "data": {
      "text/plain": [
       "<matplotlib.axes._subplots.AxesSubplot at 0x10d222850>"
      ]
     },
     "execution_count": 10,
     "metadata": {},
     "output_type": "execute_result"
    },
    {
     "data": {
      "image/png": "[encoded data removed]",
      "text/plain": [
       "<matplotlib.figure.Figure at 0x10c769710>"
      ]
     },
     "metadata": {},
     "output_type": "display_data"
    }
   ],
   "source": [
    "# Plot of ejections grouped by inning (most ejections occured in the 7th inning)\n",
    "e.groupby(e.inning).size().plot(kind='bar')"
   ]
  },
  {
   "cell_type": "code",
   "execution_count": 11,
   "metadata": {
    "collapsed": false
   },
   "outputs": [
    {
     "data": {
      "text/plain": [
       "ump_id\n",
       "fostm901    83\n",
       "westj901    79\n",
       "welkb901    76\n",
       "timmt901    75\n",
       "eddid901    74\n",
       "drakr901    65\n",
       "iassd901    65\n",
       "gibsg901    64\n",
       "wendh902    63\n",
       "cuzzp901    62\n",
       "dtype: int64"
      ]
     },
     "execution_count": 11,
     "metadata": {},
     "output_type": "execute_result"
    }
   ],
   "source": [
    "# List of top 10 umpires for most ejections\n",
    "e.groupby(e.ump_id).size().sort_values(ascending=False).head(10)"
   ]
  },
  {
   "cell_type": "code",
   "execution_count": 12,
   "metadata": {
    "collapsed": false
   },
   "outputs": [
    {
     "data": {
      "text/plain": [
       "job_code\n",
       "P    1634\n",
       "M    1434\n",
       "C     316\n",
       "N       4\n",
       "dtype: int64"
      ]
     },
     "execution_count": 12,
     "metadata": {},
     "output_type": "execute_result"
    }
   ],
   "source": [
    "# Total ejections by job code\n",
    "e.groupby(e.job_code).size().sort_values(ascending=False) # P = player, M = manager, C = coach, N = nonuniformed person"
   ]
  },
  {
   "cell_type": "code",
   "execution_count": 19,
   "metadata": {
    "collapsed": false
   },
   "outputs": [
    {
     "data": {
      "text/plain": [
       "683"
      ]
     },
     "execution_count": 19,
     "metadata": {},
     "output_type": "execute_result"
    }
   ],
   "source": [
    "# Top 10 reasons for someone getting ejected\n",
    "e.groupby(e.reason).size().sort_values(ascending=False).head(10)\n",
    "len(e.groupby(e.reason).size().sort_values(ascending=False))\n",
    "\n",
    "# get down to much smaller set of reason, no more than 20, then start thinking about , classification problem\n",
    "# Need to clean up/consolidate a lot of reason codings"
   ]
  },
  {
   "cell_type": "code",
   "execution_count": 14,
   "metadata": {
    "collapsed": false
   },
   "outputs": [
    {
     "data": {
      "text/plain": [
       "count     3388\n",
       "unique       4\n",
       "top          P\n",
       "freq      1634\n",
       "Name: job_code, dtype: object"
      ]
     },
     "execution_count": 14,
     "metadata": {},
     "output_type": "execute_result"
    }
   ],
   "source": [
    "e.job_code.describe()"
   ]
  },
  {
   "cell_type": "code",
   "execution_count": null,
   "metadata": {
    "collapsed": true
   },
   "outputs": [],
   "source": []
  },
  {
   "cell_type": "code",
   "execution_count": null,
   "metadata": {
    "collapsed": true
   },
   "outputs": [],
   "source": []
  },
  {
   "cell_type": "code",
   "execution_count": null,
   "metadata": {
    "collapsed": true
   },
   "outputs": [],
   "source": []
  },
  {
   "cell_type": "code",
   "execution_count": 15,
   "metadata": {
    "collapsed": false
   },
   "outputs": [
    {
     "data": {
      "text/html": [
       "<div>\n",
       "<table border=\"1\" class=\"dataframe\">\n",
       "  <thead>\n",
       "    <tr style=\"text-align: right;\">\n",
       "      <th></th>\n",
       "      <th>game_id</th>\n",
       "      <th>game_date</th>\n",
       "      <th>home_team_id</th>\n",
       "      <th>inn_ct</th>\n",
       "      <th>bat_home_id</th>\n",
       "      <th>bat_id</th>\n",
       "      <th>pitch_seq_tx</th>\n",
       "      <th>event_tx</th>\n",
       "      <th>ej_code</th>\n",
       "      <th>ejectee</th>\n",
       "      <th>job_code</th>\n",
       "      <th>ump_id</th>\n",
       "      <th>reason</th>\n",
       "    </tr>\n",
       "  </thead>\n",
       "  <tbody>\n",
       "    <tr>\n",
       "      <th>0</th>\n",
       "      <td>ANA200004240</td>\n",
       "      <td>2000-04-24</td>\n",
       "      <td>ANA</td>\n",
       "      <td>9</td>\n",
       "      <td>True</td>\n",
       "      <td>kenna001</td>\n",
       "      <td>FBFX</td>\n",
       "      <td>3(B)3(1)/LDP</td>\n",
       "      <td>ej</td>\n",
       "      <td>madlb001</td>\n",
       "      <td>C</td>\n",
       "      <td>welkb901</td>\n",
       "      <td>Balls and strikes</td>\n",
       "    </tr>\n",
       "    <tr>\n",
       "      <th>1</th>\n",
       "      <td>ANA200004240</td>\n",
       "      <td>2000-04-24</td>\n",
       "      <td>ANA</td>\n",
       "      <td>2</td>\n",
       "      <td>False</td>\n",
       "      <td>polol001</td>\n",
       "      <td>X</td>\n",
       "      <td>46(1)/FO</td>\n",
       "      <td>ej</td>\n",
       "      <td>mansd801</td>\n",
       "      <td>C</td>\n",
       "      <td>culbf901</td>\n",
       "      <td>Call at 2B (Bumped umpire)</td>\n",
       "    </tr>\n",
       "    <tr>\n",
       "      <th>2</th>\n",
       "      <td>ANA200004240</td>\n",
       "      <td>2000-04-24</td>\n",
       "      <td>ANA</td>\n",
       "      <td>5</td>\n",
       "      <td>True</td>\n",
       "      <td>glaut001</td>\n",
       "      <td>CCX</td>\n",
       "      <td>63/G</td>\n",
       "      <td>ej</td>\n",
       "      <td>garnp001</td>\n",
       "      <td>M</td>\n",
       "      <td>welkb901</td>\n",
       "      <td>Balls and strikes</td>\n",
       "    </tr>\n",
       "    <tr>\n",
       "      <th>3</th>\n",
       "      <td>ANA200005100</td>\n",
       "      <td>2000-05-10</td>\n",
       "      <td>ANA</td>\n",
       "      <td>3</td>\n",
       "      <td>True</td>\n",
       "      <td>salmt001</td>\n",
       "      <td>BBX</td>\n",
       "      <td>63/G</td>\n",
       "      <td>ej</td>\n",
       "      <td>hatcm001</td>\n",
       "      <td>C</td>\n",
       "      <td>clara901</td>\n",
       "      <td>Fan interference call</td>\n",
       "    </tr>\n",
       "    <tr>\n",
       "      <th>4</th>\n",
       "      <td>ANA200007040</td>\n",
       "      <td>2000-07-04</td>\n",
       "      <td>ANA</td>\n",
       "      <td>3</td>\n",
       "      <td>False</td>\n",
       "      <td>hendr001</td>\n",
       "      <td>CCFC</td>\n",
       "      <td>K/C</td>\n",
       "      <td>ej</td>\n",
       "      <td>hendr001</td>\n",
       "      <td>P</td>\n",
       "      <td>welkb901</td>\n",
       "      <td>Called third strike</td>\n",
       "    </tr>\n",
       "  </tbody>\n",
       "</table>\n",
       "</div>"
      ],
      "text/plain": [
       "        game_id   game_date home_team_id  inn_ct bat_home_id    bat_id  \\\n",
       "0  ANA200004240  2000-04-24          ANA       9        True  kenna001   \n",
       "1  ANA200004240  2000-04-24          ANA       2       False  polol001   \n",
       "2  ANA200004240  2000-04-24          ANA       5        True  glaut001   \n",
       "3  ANA200005100  2000-05-10          ANA       3        True  salmt001   \n",
       "4  ANA200007040  2000-07-04          ANA       3       False  hendr001   \n",
       "\n",
       "  pitch_seq_tx      event_tx ej_code   ejectee job_code    ump_id  \\\n",
       "0         FBFX  3(B)3(1)/LDP      ej  madlb001        C  welkb901   \n",
       "1            X      46(1)/FO      ej  mansd801        C  culbf901   \n",
       "2          CCX          63/G      ej  garnp001        M  welkb901   \n",
       "3          BBX          63/G      ej  hatcm001        C  clara901   \n",
       "4         CCFC           K/C      ej  hendr001        P  welkb901   \n",
       "\n",
       "                       reason  \n",
       "0           Balls and strikes  \n",
       "1  Call at 2B (Bumped umpire)  \n",
       "2           Balls and strikes  \n",
       "3       Fan interference call  \n",
       "4         Called third strike  "
      ]
     },
     "execution_count": 15,
     "metadata": {},
     "output_type": "execute_result"
    }
   ],
   "source": [
    "# Practice connecting to Postgres\n",
    "\n",
    "conn = pg.connect(\"dbname=retrosheet user=danielgoodman\") #connect and return connection\n",
    "cur = conn.cursor()\n",
    "source_table = 'ejections' # Name of table in retrosheet database\n",
    "\n",
    "SQL_base = \"\"\"SELECT\n",
    "        *\n",
    "    FROM \n",
    "        {source_table}\n",
    "    \n",
    "    ;\"\"\"\n",
    "SQL_base = SQL_base.format(source_table=source_table)\n",
    "\n",
    "test_query = pd.read_sql_query(SQL_base, conn) \n",
    "test_query.head()"
   ]
  },
  {
   "cell_type": "code",
   "execution_count": 17,
   "metadata": {
    "collapsed": false,
    "scrolled": true
   },
   "outputs": [
    {
     "data": {
      "text/html": [
       "<div>\n",
       "<table border=\"1\" class=\"dataframe\">\n",
       "  <thead>\n",
       "    <tr style=\"text-align: right;\">\n",
       "      <th></th>\n",
       "      <th>event_uid</th>\n",
       "      <th>game_id</th>\n",
       "      <th>game_date</th>\n",
       "      <th>game_year</th>\n",
       "      <th>game_month</th>\n",
       "      <th>game_day_of_month</th>\n",
       "      <th>game_number</th>\n",
       "      <th>home_team_id</th>\n",
       "      <th>away_team_id</th>\n",
       "      <th>inn_ct</th>\n",
       "      <th>...</th>\n",
       "      <th>inn_ct</th>\n",
       "      <th>bat_home_id</th>\n",
       "      <th>bat_id</th>\n",
       "      <th>pitch_seq_tx</th>\n",
       "      <th>event_tx</th>\n",
       "      <th>ej_code</th>\n",
       "      <th>ejectee</th>\n",
       "      <th>job_code</th>\n",
       "      <th>ump_id</th>\n",
       "      <th>reason</th>\n",
       "    </tr>\n",
       "  </thead>\n",
       "  <tbody>\n",
       "    <tr>\n",
       "      <th>0</th>\n",
       "      <td>ANA200007040001</td>\n",
       "      <td>ANA200007040</td>\n",
       "      <td>2000-07-04</td>\n",
       "      <td>2000</td>\n",
       "      <td>7</td>\n",
       "      <td>4</td>\n",
       "      <td>0</td>\n",
       "      <td>ANA</td>\n",
       "      <td>SEA</td>\n",
       "      <td>1</td>\n",
       "      <td>...</td>\n",
       "      <td>NaN</td>\n",
       "      <td>None</td>\n",
       "      <td>None</td>\n",
       "      <td>None</td>\n",
       "      <td>None</td>\n",
       "      <td>None</td>\n",
       "      <td>None</td>\n",
       "      <td>None</td>\n",
       "      <td>None</td>\n",
       "      <td>None</td>\n",
       "    </tr>\n",
       "    <tr>\n",
       "      <th>1</th>\n",
       "      <td>ANA200007040002</td>\n",
       "      <td>ANA200007040</td>\n",
       "      <td>2000-07-04</td>\n",
       "      <td>2000</td>\n",
       "      <td>7</td>\n",
       "      <td>4</td>\n",
       "      <td>0</td>\n",
       "      <td>ANA</td>\n",
       "      <td>SEA</td>\n",
       "      <td>1</td>\n",
       "      <td>...</td>\n",
       "      <td>NaN</td>\n",
       "      <td>None</td>\n",
       "      <td>None</td>\n",
       "      <td>None</td>\n",
       "      <td>None</td>\n",
       "      <td>None</td>\n",
       "      <td>None</td>\n",
       "      <td>None</td>\n",
       "      <td>None</td>\n",
       "      <td>None</td>\n",
       "    </tr>\n",
       "    <tr>\n",
       "      <th>2</th>\n",
       "      <td>ANA200007040003</td>\n",
       "      <td>ANA200007040</td>\n",
       "      <td>2000-07-04</td>\n",
       "      <td>2000</td>\n",
       "      <td>7</td>\n",
       "      <td>4</td>\n",
       "      <td>0</td>\n",
       "      <td>ANA</td>\n",
       "      <td>SEA</td>\n",
       "      <td>1</td>\n",
       "      <td>...</td>\n",
       "      <td>NaN</td>\n",
       "      <td>None</td>\n",
       "      <td>None</td>\n",
       "      <td>None</td>\n",
       "      <td>None</td>\n",
       "      <td>None</td>\n",
       "      <td>None</td>\n",
       "      <td>None</td>\n",
       "      <td>None</td>\n",
       "      <td>None</td>\n",
       "    </tr>\n",
       "    <tr>\n",
       "      <th>3</th>\n",
       "      <td>ANA200007040004</td>\n",
       "      <td>ANA200007040</td>\n",
       "      <td>2000-07-04</td>\n",
       "      <td>2000</td>\n",
       "      <td>7</td>\n",
       "      <td>4</td>\n",
       "      <td>0</td>\n",
       "      <td>ANA</td>\n",
       "      <td>SEA</td>\n",
       "      <td>1</td>\n",
       "      <td>...</td>\n",
       "      <td>NaN</td>\n",
       "      <td>None</td>\n",
       "      <td>None</td>\n",
       "      <td>None</td>\n",
       "      <td>None</td>\n",
       "      <td>None</td>\n",
       "      <td>None</td>\n",
       "      <td>None</td>\n",
       "      <td>None</td>\n",
       "      <td>None</td>\n",
       "    </tr>\n",
       "    <tr>\n",
       "      <th>4</th>\n",
       "      <td>ANA200007040005</td>\n",
       "      <td>ANA200007040</td>\n",
       "      <td>2000-07-04</td>\n",
       "      <td>2000</td>\n",
       "      <td>7</td>\n",
       "      <td>4</td>\n",
       "      <td>0</td>\n",
       "      <td>ANA</td>\n",
       "      <td>SEA</td>\n",
       "      <td>1</td>\n",
       "      <td>...</td>\n",
       "      <td>NaN</td>\n",
       "      <td>None</td>\n",
       "      <td>None</td>\n",
       "      <td>None</td>\n",
       "      <td>None</td>\n",
       "      <td>None</td>\n",
       "      <td>None</td>\n",
       "      <td>None</td>\n",
       "      <td>None</td>\n",
       "      <td>None</td>\n",
       "    </tr>\n",
       "  </tbody>\n",
       "</table>\n",
       "<p>5 rows × 120 columns</p>\n",
       "</div>"
      ],
      "text/plain": [
       "         event_uid       game_id   game_date  game_year  game_month  \\\n",
       "0  ANA200007040001  ANA200007040  2000-07-04       2000           7   \n",
       "1  ANA200007040002  ANA200007040  2000-07-04       2000           7   \n",
       "2  ANA200007040003  ANA200007040  2000-07-04       2000           7   \n",
       "3  ANA200007040004  ANA200007040  2000-07-04       2000           7   \n",
       "4  ANA200007040005  ANA200007040  2000-07-04       2000           7   \n",
       "\n",
       "   game_day_of_month  game_number home_team_id away_team_id inn_ct  ...    \\\n",
       "0                  4            0          ANA          SEA      1  ...     \n",
       "1                  4            0          ANA          SEA      1  ...     \n",
       "2                  4            0          ANA          SEA      1  ...     \n",
       "3                  4            0          ANA          SEA      1  ...     \n",
       "4                  4            0          ANA          SEA      1  ...     \n",
       "\n",
       "  inn_ct bat_home_id  bat_id  pitch_seq_tx  event_tx ej_code  ejectee  \\\n",
       "0    NaN        None    None          None      None    None     None   \n",
       "1    NaN        None    None          None      None    None     None   \n",
       "2    NaN        None    None          None      None    None     None   \n",
       "3    NaN        None    None          None      None    None     None   \n",
       "4    NaN        None    None          None      None    None     None   \n",
       "\n",
       "   job_code  ump_id reason  \n",
       "0      None    None   None  \n",
       "1      None    None   None  \n",
       "2      None    None   None  \n",
       "3      None    None   None  \n",
       "4      None    None   None  \n",
       "\n",
       "[5 rows x 120 columns]"
      ]
     },
     "execution_count": 17,
     "metadata": {},
     "output_type": "execute_result"
    }
   ],
   "source": [
    "source_table = 'event'\n",
    "\n",
    "SQL_query = \"\"\"SELECT\n",
    "        *\n",
    "    FROM \n",
    "        {source_table} ev\n",
    "    LEFT JOIN\n",
    "        ejections ej\n",
    "    ON ej.game_id = ev.game_id\n",
    "        AND ej.inn_ct = ev.inn_ct\n",
    "        AND ej.bat_id = ev.bat_id\n",
    "        AND ej.pitch_seq_tx = ev.pitch_seq_tx\n",
    "        AND ej.event_tx = ev.event_tx\n",
    "    WHERE\n",
    "        ev.game_id = 'ANA200007040'\n",
    "    LIMIT 100\n",
    "    ;\"\"\"\n",
    "SQL_query = SQL_query.format(source_table=source_table)\n",
    "\n",
    "ej_query = pd.read_sql_query(SQL_query, conn)\n",
    "ej_query.head()"
   ]
  },
  {
   "cell_type": "code",
   "execution_count": null,
   "metadata": {
    "collapsed": true
   },
   "outputs": [],
   "source": []
  },
  {
   "cell_type": "code",
   "execution_count": null,
   "metadata": {
    "collapsed": true
   },
   "outputs": [],
   "source": []
  },
  {
   "cell_type": "code",
   "execution_count": null,
   "metadata": {
    "collapsed": true
   },
   "outputs": [],
   "source": []
  },
  {
   "cell_type": "code",
   "execution_count": null,
   "metadata": {
    "collapsed": true
   },
   "outputs": [],
   "source": []
  },
  {
   "cell_type": "code",
   "execution_count": null,
   "metadata": {
    "collapsed": true
   },
   "outputs": [],
   "source": []
  },
  {
   "cell_type": "code",
   "execution_count": null,
   "metadata": {
    "collapsed": false
   },
   "outputs": [],
   "source": []
  },
  {
   "cell_type": "code",
   "execution_count": null,
   "metadata": {
    "collapsed": true
   },
   "outputs": [],
   "source": []
  },
  {
   "cell_type": "code",
   "execution_count": null,
   "metadata": {
    "collapsed": true
   },
   "outputs": [],
   "source": []
  },
  {
   "cell_type": "code",
   "execution_count": null,
   "metadata": {
    "collapsed": true
   },
   "outputs": [],
   "source": []
  },
  {
   "cell_type": "code",
   "execution_count": null,
   "metadata": {
    "collapsed": true
   },
   "outputs": [],
   "source": []
  }
 ],
 "metadata": {
  "kernelspec": {
   "display_name": "Python 2",
   "language": "python",
   "name": "python2"
  },
  "language_info": {
   "codemirror_mode": {
    "name": "ipython",
    "version": 2
   },
   "file_extension": ".py",
   "mimetype": "text/x-python",
   "name": "python",
   "nbconvert_exporter": "python",
   "pygments_lexer": "ipython2",
   "version": "2.7.12"
  }
 },
 "nbformat": 4,
 "nbformat_minor": 0
}
